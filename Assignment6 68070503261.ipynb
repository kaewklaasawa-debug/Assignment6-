{
 "cells": [
  {
   "cell_type": "code",
   "execution_count": null,
   "id": "72452959",
   "metadata": {},
   "outputs": [
    {
     "name": "stdout",
     "output_type": "stream",
     "text": [
      "Name: Alice, Age: 16\n",
      "Added Math = 90\n",
      "Added Science = 85\n",
      "Marks:\n",
      "Math: 90\n",
      "Science: 85\n",
      "Average Score: 87.50\n"
     ]
    }
   ],
   "source": [
    "\n",
    "class Person:\n",
    "    def __init__(self, name, age):\n",
    "        self.name = name\n",
    "        self.age = age\n",
    "\n",
    "    def display_info(self):\n",
    "        print(f\"Name: {self.name}, Age: {self.age}\")\n",
    "\n",
    "\n",
    "class Student(Person):\n",
    "    def __init__(self, name, age):\n",
    "        super().__init__(name, age)\n",
    "        self.marks = {}\n",
    "\n",
    "    def add_mark(self, subject, score):\n",
    "        if subject in self.marks:\n",
    "            self.marks[subject] = score\n",
    "            print(f\"Updated {subject} = {score}\")\n",
    "        else:\n",
    "            self.marks[subject] = score\n",
    "            print(f\"Added {subject} = {score}\")\n",
    "\n",
    "    def display_marks(self):\n",
    "        print(\"Marks:\")\n",
    "        for subject, score in self.marks.items():\n",
    "            print(f\"{subject}: {score}\")\n",
    "\n",
    "    def average(self):\n",
    "        if not self.marks:\n",
    "            return 0\n",
    "        total = sum(self.marks.values())\n",
    "        count = len(self.marks)\n",
    "        return total / count\n",
    "\n",
    "student1 = Student(\"Alice\", 16)\n",
    "\n",
    "\n",
    "student1.display_info()\n",
    "\n",
    "\n",
    "student1.add_mark(\"Math\", 90)\n",
    "student1.add_mark(\"Science\", 85)\n",
    "\n",
    "\n",
    "student1.display_marks()\n",
    "\n",
    "\n",
    "avg = student1.average()\n",
    "print(f\"Average Score: {avg:.2f}\")\n"
   ]
  }
 ],
 "metadata": {
  "kernelspec": {
   "display_name": "Python 3",
   "language": "python",
   "name": "python3"
  },
  "language_info": {
   "codemirror_mode": {
    "name": "ipython",
    "version": 3
   },
   "file_extension": ".py",
   "mimetype": "text/x-python",
   "name": "python",
   "nbconvert_exporter": "python",
   "pygments_lexer": "ipython3",
   "version": "3.12.6"
  }
 },
 "nbformat": 4,
 "nbformat_minor": 5
}
